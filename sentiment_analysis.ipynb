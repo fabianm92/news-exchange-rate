{
 "metadata": {
  "language_info": {
   "codemirror_mode": {
    "name": "ipython",
    "version": 3
   },
   "file_extension": ".py",
   "mimetype": "text/x-python",
   "name": "python",
   "nbconvert_exporter": "python",
   "pygments_lexer": "ipython3",
   "version": "3.7.4-final"
  },
  "orig_nbformat": 2,
  "kernelspec": {
   "name": "python3",
   "display_name": "Python 3",
   "language": "python"
  }
 },
 "nbformat": 4,
 "nbformat_minor": 2,
 "cells": [
  {
   "source": [
    "# Sentiment Analysis of News"
   ],
   "cell_type": "markdown",
   "metadata": {}
  },
  {
   "source": [
    "## Dictionary-based Approach"
   ],
   "cell_type": "markdown",
   "metadata": {}
  },
  {
   "cell_type": "code",
   "execution_count": 5,
   "metadata": {},
   "outputs": [],
   "source": [
    "from nltk.tokenize import treebank\n",
    "from nltk.corpus import opinion_lexicon\n",
    "\n",
    "import pandas as pd"
   ]
  },
  {
   "cell_type": "code",
   "execution_count": 6,
   "metadata": {},
   "outputs": [
    {
     "output_type": "execute_result",
     "data": {
      "text/plain": [
       "                                             snippet  \\\n",
       "0  Mexican lawmakers reach compromise on country'...   \n",
       "1  Three new studies report new technique to pinp...   \n",
       "2  Interview with Lieut Col Hildegardo Bacillo Go...   \n",
       "3  Some 2,000 people gather at graves of 45 peopl...   \n",
       "4  Ambitious United States effort to help train a...   \n",
       "\n",
       "                                            abstract  \\\n",
       "0  Mexican lawmakers reach compromise on country'...   \n",
       "1  Three new studies report new technique to pinp...   \n",
       "2  Interview with Lieut Col Hildegardo Bacillo Go...   \n",
       "3  Some 2,000 people gather at graves of 45 peopl...   \n",
       "4  Ambitious United States effort to help train a...   \n",
       "\n",
       "                   pub_date  \\\n",
       "0  1998-12-31T05:00:00+0000   \n",
       "1  1998-12-29T05:00:00+0000   \n",
       "2  1998-12-29T05:00:00+0000   \n",
       "3  1998-12-23T05:00:00+0000   \n",
       "4  1998-12-23T05:00:00+0000   \n",
       "\n",
       "                                                 _id section_name  \\\n",
       "0  nyt://article/6238be98-a87a-5fbd-8a5d-20b15341...        World   \n",
       "1  nyt://article/bd31e0fe-4053-55f8-9e24-86b10281...      Science   \n",
       "2  nyt://article/fc8cfb88-aa41-5ec5-8328-f2e6d870...        World   \n",
       "3  nyt://article/1eaf78c0-88df-5390-bd95-664fcf07...        World   \n",
       "4  nyt://article/aae2ecc4-f440-5989-bdab-6e56f562...        World   \n",
       "\n",
       "                                                 uri type_of_material  \\\n",
       "0  nyt://article/6238be98-a87a-5fbd-8a5d-20b15341...             News   \n",
       "1  nyt://article/bd31e0fe-4053-55f8-9e24-86b10281...             News   \n",
       "2  nyt://article/fc8cfb88-aa41-5ec5-8328-f2e6d870...             News   \n",
       "3  nyt://article/1eaf78c0-88df-5390-bd95-664fcf07...             News   \n",
       "4  nyt://article/aae2ecc4-f440-5989-bdab-6e56f562...             News   \n",
       "\n",
       "               source print_section  \\\n",
       "0  The New York Times             A   \n",
       "1  The New York Times             F   \n",
       "2  The New York Times             A   \n",
       "3  The New York Times             A   \n",
       "4  The New York Times             A   \n",
       "\n",
       "                                      lead_paragraph  word_count  \\\n",
       "0  After weeks of tense impasse and with less tha...         518   \n",
       "1  Every winter, after flying south from the East...        1170   \n",
       "2  Sheltered from view by bushes on the side of t...        1352   \n",
       "3  For six days, only the dogs and chickens were ...         951   \n",
       "4  An ambitious United States effort to help trai...        1261   \n",
       "\n",
       "      news_desk                                            web_url  \\\n",
       "0  Foreign Desk  https://www.nytimes.com/1998/12/31/world/just-...   \n",
       "1  Science Desk  https://www.nytimes.com/1998/12/29/science/on-...   \n",
       "2  Foreign Desk  https://www.nytimes.com/1998/12/29/world/mexic...   \n",
       "3  Foreign Desk  https://www.nytimes.com/1998/12/23/world/actea...   \n",
       "4  Foreign Desk  https://www.nytimes.com/1998/12/23/world/us-he...   \n",
       "\n",
       "  document_type print_page                                           headline  \\\n",
       "0       article          9  Just Hours Before Deadline, Mexicans Draft an ...   \n",
       "1       article          5  On the Trail of the Monarch, With the Aid of C...   \n",
       "2       article          3     Mexican Army Protester Goes Loudly Into Hiding   \n",
       "3       article          4  Acteal Journal; Where Killings Defiled a Churc...   \n",
       "4       article          1  U.S. Help for Mexican Military Has Not Curtail...   \n",
       "\n",
       "                 author  \n",
       "0    By Ginger Thompson  \n",
       "1  By Carol Kaesuk Yoon  \n",
       "2    By Ginger Thompson  \n",
       "3    By Ginger Thompson  \n",
       "4         By Tim Golden  "
      ],
      "text/html": "<div>\n<style scoped>\n    .dataframe tbody tr th:only-of-type {\n        vertical-align: middle;\n    }\n\n    .dataframe tbody tr th {\n        vertical-align: top;\n    }\n\n    .dataframe thead th {\n        text-align: right;\n    }\n</style>\n<table border=\"1\" class=\"dataframe\">\n  <thead>\n    <tr style=\"text-align: right;\">\n      <th></th>\n      <th>snippet</th>\n      <th>abstract</th>\n      <th>pub_date</th>\n      <th>_id</th>\n      <th>section_name</th>\n      <th>uri</th>\n      <th>type_of_material</th>\n      <th>source</th>\n      <th>print_section</th>\n      <th>lead_paragraph</th>\n      <th>word_count</th>\n      <th>news_desk</th>\n      <th>web_url</th>\n      <th>document_type</th>\n      <th>print_page</th>\n      <th>headline</th>\n      <th>author</th>\n    </tr>\n  </thead>\n  <tbody>\n    <tr>\n      <td>0</td>\n      <td>Mexican lawmakers reach compromise on country'...</td>\n      <td>Mexican lawmakers reach compromise on country'...</td>\n      <td>1998-12-31T05:00:00+0000</td>\n      <td>nyt://article/6238be98-a87a-5fbd-8a5d-20b15341...</td>\n      <td>World</td>\n      <td>nyt://article/6238be98-a87a-5fbd-8a5d-20b15341...</td>\n      <td>News</td>\n      <td>The New York Times</td>\n      <td>A</td>\n      <td>After weeks of tense impasse and with less tha...</td>\n      <td>518</td>\n      <td>Foreign Desk</td>\n      <td>https://www.nytimes.com/1998/12/31/world/just-...</td>\n      <td>article</td>\n      <td>9</td>\n      <td>Just Hours Before Deadline, Mexicans Draft an ...</td>\n      <td>By Ginger Thompson</td>\n    </tr>\n    <tr>\n      <td>1</td>\n      <td>Three new studies report new technique to pinp...</td>\n      <td>Three new studies report new technique to pinp...</td>\n      <td>1998-12-29T05:00:00+0000</td>\n      <td>nyt://article/bd31e0fe-4053-55f8-9e24-86b10281...</td>\n      <td>Science</td>\n      <td>nyt://article/bd31e0fe-4053-55f8-9e24-86b10281...</td>\n      <td>News</td>\n      <td>The New York Times</td>\n      <td>F</td>\n      <td>Every winter, after flying south from the East...</td>\n      <td>1170</td>\n      <td>Science Desk</td>\n      <td>https://www.nytimes.com/1998/12/29/science/on-...</td>\n      <td>article</td>\n      <td>5</td>\n      <td>On the Trail of the Monarch, With the Aid of C...</td>\n      <td>By Carol Kaesuk Yoon</td>\n    </tr>\n    <tr>\n      <td>2</td>\n      <td>Interview with Lieut Col Hildegardo Bacillo Go...</td>\n      <td>Interview with Lieut Col Hildegardo Bacillo Go...</td>\n      <td>1998-12-29T05:00:00+0000</td>\n      <td>nyt://article/fc8cfb88-aa41-5ec5-8328-f2e6d870...</td>\n      <td>World</td>\n      <td>nyt://article/fc8cfb88-aa41-5ec5-8328-f2e6d870...</td>\n      <td>News</td>\n      <td>The New York Times</td>\n      <td>A</td>\n      <td>Sheltered from view by bushes on the side of t...</td>\n      <td>1352</td>\n      <td>Foreign Desk</td>\n      <td>https://www.nytimes.com/1998/12/29/world/mexic...</td>\n      <td>article</td>\n      <td>3</td>\n      <td>Mexican Army Protester Goes Loudly Into Hiding</td>\n      <td>By Ginger Thompson</td>\n    </tr>\n    <tr>\n      <td>3</td>\n      <td>Some 2,000 people gather at graves of 45 peopl...</td>\n      <td>Some 2,000 people gather at graves of 45 peopl...</td>\n      <td>1998-12-23T05:00:00+0000</td>\n      <td>nyt://article/1eaf78c0-88df-5390-bd95-664fcf07...</td>\n      <td>World</td>\n      <td>nyt://article/1eaf78c0-88df-5390-bd95-664fcf07...</td>\n      <td>News</td>\n      <td>The New York Times</td>\n      <td>A</td>\n      <td>For six days, only the dogs and chickens were ...</td>\n      <td>951</td>\n      <td>Foreign Desk</td>\n      <td>https://www.nytimes.com/1998/12/23/world/actea...</td>\n      <td>article</td>\n      <td>4</td>\n      <td>Acteal Journal; Where Killings Defiled a Churc...</td>\n      <td>By Ginger Thompson</td>\n    </tr>\n    <tr>\n      <td>4</td>\n      <td>Ambitious United States effort to help train a...</td>\n      <td>Ambitious United States effort to help train a...</td>\n      <td>1998-12-23T05:00:00+0000</td>\n      <td>nyt://article/aae2ecc4-f440-5989-bdab-6e56f562...</td>\n      <td>World</td>\n      <td>nyt://article/aae2ecc4-f440-5989-bdab-6e56f562...</td>\n      <td>News</td>\n      <td>The New York Times</td>\n      <td>A</td>\n      <td>An ambitious United States effort to help trai...</td>\n      <td>1261</td>\n      <td>Foreign Desk</td>\n      <td>https://www.nytimes.com/1998/12/23/world/us-he...</td>\n      <td>article</td>\n      <td>1</td>\n      <td>U.S. Help for Mexican Military Has Not Curtail...</td>\n      <td>By Tim Golden</td>\n    </tr>\n  </tbody>\n</table>\n</div>"
     },
     "metadata": {},
     "execution_count": 6
    }
   ],
   "source": [
    "nyt = pd.read_csv('csv_files/nyt.csv')\n",
    "nyt.head()"
   ]
  },
  {
   "cell_type": "code",
   "execution_count": 7,
   "metadata": {},
   "outputs": [],
   "source": [
    "pos_list=set(opinion_lexicon.positive())\n",
    "neg_list=set(opinion_lexicon.negative())\n",
    "\n",
    "tokenizer = treebank.TreebankWordTokenizer()\n",
    "\n",
    "def sentiment(sentence):\n",
    "  senti=0\n",
    "  words = [word.lower() for word in tokenizer.tokenize(sentence)]\n",
    "  for word in words:\n",
    "    if word in pos_list:\n",
    "      senti += 1\n",
    "    elif word in neg_list:\n",
    "      senti -= 1\n",
    "  return senti"
   ]
  },
  {
   "cell_type": "code",
   "execution_count": 8,
   "metadata": {},
   "outputs": [],
   "source": [
    "nyt['sentiment']=nyt['abstract'].apply(sentiment)"
   ]
  },
  {
   "cell_type": "code",
   "execution_count": 9,
   "metadata": {},
   "outputs": [
    {
     "output_type": "execute_result",
     "data": {
      "text/plain": [
       "                                             snippet  \\\n",
       "0  Mexican lawmakers reach compromise on country'...   \n",
       "1  Three new studies report new technique to pinp...   \n",
       "2  Interview with Lieut Col Hildegardo Bacillo Go...   \n",
       "3  Some 2,000 people gather at graves of 45 peopl...   \n",
       "4  Ambitious United States effort to help train a...   \n",
       "\n",
       "                                            abstract  \\\n",
       "0  Mexican lawmakers reach compromise on country'...   \n",
       "1  Three new studies report new technique to pinp...   \n",
       "2  Interview with Lieut Col Hildegardo Bacillo Go...   \n",
       "3  Some 2,000 people gather at graves of 45 peopl...   \n",
       "4  Ambitious United States effort to help train a...   \n",
       "\n",
       "                   pub_date  \\\n",
       "0  1998-12-31T05:00:00+0000   \n",
       "1  1998-12-29T05:00:00+0000   \n",
       "2  1998-12-29T05:00:00+0000   \n",
       "3  1998-12-23T05:00:00+0000   \n",
       "4  1998-12-23T05:00:00+0000   \n",
       "\n",
       "                                                 _id section_name  \\\n",
       "0  nyt://article/6238be98-a87a-5fbd-8a5d-20b15341...        World   \n",
       "1  nyt://article/bd31e0fe-4053-55f8-9e24-86b10281...      Science   \n",
       "2  nyt://article/fc8cfb88-aa41-5ec5-8328-f2e6d870...        World   \n",
       "3  nyt://article/1eaf78c0-88df-5390-bd95-664fcf07...        World   \n",
       "4  nyt://article/aae2ecc4-f440-5989-bdab-6e56f562...        World   \n",
       "\n",
       "                                                 uri type_of_material  \\\n",
       "0  nyt://article/6238be98-a87a-5fbd-8a5d-20b15341...             News   \n",
       "1  nyt://article/bd31e0fe-4053-55f8-9e24-86b10281...             News   \n",
       "2  nyt://article/fc8cfb88-aa41-5ec5-8328-f2e6d870...             News   \n",
       "3  nyt://article/1eaf78c0-88df-5390-bd95-664fcf07...             News   \n",
       "4  nyt://article/aae2ecc4-f440-5989-bdab-6e56f562...             News   \n",
       "\n",
       "               source print_section  \\\n",
       "0  The New York Times             A   \n",
       "1  The New York Times             F   \n",
       "2  The New York Times             A   \n",
       "3  The New York Times             A   \n",
       "4  The New York Times             A   \n",
       "\n",
       "                                      lead_paragraph  word_count  \\\n",
       "0  After weeks of tense impasse and with less tha...         518   \n",
       "1  Every winter, after flying south from the East...        1170   \n",
       "2  Sheltered from view by bushes on the side of t...        1352   \n",
       "3  For six days, only the dogs and chickens were ...         951   \n",
       "4  An ambitious United States effort to help trai...        1261   \n",
       "\n",
       "      news_desk                                            web_url  \\\n",
       "0  Foreign Desk  https://www.nytimes.com/1998/12/31/world/just-...   \n",
       "1  Science Desk  https://www.nytimes.com/1998/12/29/science/on-...   \n",
       "2  Foreign Desk  https://www.nytimes.com/1998/12/29/world/mexic...   \n",
       "3  Foreign Desk  https://www.nytimes.com/1998/12/23/world/actea...   \n",
       "4  Foreign Desk  https://www.nytimes.com/1998/12/23/world/us-he...   \n",
       "\n",
       "  document_type print_page                                           headline  \\\n",
       "0       article          9  Just Hours Before Deadline, Mexicans Draft an ...   \n",
       "1       article          5  On the Trail of the Monarch, With the Aid of C...   \n",
       "2       article          3     Mexican Army Protester Goes Loudly Into Hiding   \n",
       "3       article          4  Acteal Journal; Where Killings Defiled a Churc...   \n",
       "4       article          1  U.S. Help for Mexican Military Has Not Curtail...   \n",
       "\n",
       "                 author  sentiment  \n",
       "0    By Ginger Thompson          0  \n",
       "1  By Carol Kaesuk Yoon          2  \n",
       "2    By Ginger Thompson         -3  \n",
       "3    By Ginger Thompson         -5  \n",
       "4         By Tim Golden          2  "
      ],
      "text/html": "<div>\n<style scoped>\n    .dataframe tbody tr th:only-of-type {\n        vertical-align: middle;\n    }\n\n    .dataframe tbody tr th {\n        vertical-align: top;\n    }\n\n    .dataframe thead th {\n        text-align: right;\n    }\n</style>\n<table border=\"1\" class=\"dataframe\">\n  <thead>\n    <tr style=\"text-align: right;\">\n      <th></th>\n      <th>snippet</th>\n      <th>abstract</th>\n      <th>pub_date</th>\n      <th>_id</th>\n      <th>section_name</th>\n      <th>uri</th>\n      <th>type_of_material</th>\n      <th>source</th>\n      <th>print_section</th>\n      <th>lead_paragraph</th>\n      <th>word_count</th>\n      <th>news_desk</th>\n      <th>web_url</th>\n      <th>document_type</th>\n      <th>print_page</th>\n      <th>headline</th>\n      <th>author</th>\n      <th>sentiment</th>\n    </tr>\n  </thead>\n  <tbody>\n    <tr>\n      <td>0</td>\n      <td>Mexican lawmakers reach compromise on country'...</td>\n      <td>Mexican lawmakers reach compromise on country'...</td>\n      <td>1998-12-31T05:00:00+0000</td>\n      <td>nyt://article/6238be98-a87a-5fbd-8a5d-20b15341...</td>\n      <td>World</td>\n      <td>nyt://article/6238be98-a87a-5fbd-8a5d-20b15341...</td>\n      <td>News</td>\n      <td>The New York Times</td>\n      <td>A</td>\n      <td>After weeks of tense impasse and with less tha...</td>\n      <td>518</td>\n      <td>Foreign Desk</td>\n      <td>https://www.nytimes.com/1998/12/31/world/just-...</td>\n      <td>article</td>\n      <td>9</td>\n      <td>Just Hours Before Deadline, Mexicans Draft an ...</td>\n      <td>By Ginger Thompson</td>\n      <td>0</td>\n    </tr>\n    <tr>\n      <td>1</td>\n      <td>Three new studies report new technique to pinp...</td>\n      <td>Three new studies report new technique to pinp...</td>\n      <td>1998-12-29T05:00:00+0000</td>\n      <td>nyt://article/bd31e0fe-4053-55f8-9e24-86b10281...</td>\n      <td>Science</td>\n      <td>nyt://article/bd31e0fe-4053-55f8-9e24-86b10281...</td>\n      <td>News</td>\n      <td>The New York Times</td>\n      <td>F</td>\n      <td>Every winter, after flying south from the East...</td>\n      <td>1170</td>\n      <td>Science Desk</td>\n      <td>https://www.nytimes.com/1998/12/29/science/on-...</td>\n      <td>article</td>\n      <td>5</td>\n      <td>On the Trail of the Monarch, With the Aid of C...</td>\n      <td>By Carol Kaesuk Yoon</td>\n      <td>2</td>\n    </tr>\n    <tr>\n      <td>2</td>\n      <td>Interview with Lieut Col Hildegardo Bacillo Go...</td>\n      <td>Interview with Lieut Col Hildegardo Bacillo Go...</td>\n      <td>1998-12-29T05:00:00+0000</td>\n      <td>nyt://article/fc8cfb88-aa41-5ec5-8328-f2e6d870...</td>\n      <td>World</td>\n      <td>nyt://article/fc8cfb88-aa41-5ec5-8328-f2e6d870...</td>\n      <td>News</td>\n      <td>The New York Times</td>\n      <td>A</td>\n      <td>Sheltered from view by bushes on the side of t...</td>\n      <td>1352</td>\n      <td>Foreign Desk</td>\n      <td>https://www.nytimes.com/1998/12/29/world/mexic...</td>\n      <td>article</td>\n      <td>3</td>\n      <td>Mexican Army Protester Goes Loudly Into Hiding</td>\n      <td>By Ginger Thompson</td>\n      <td>-3</td>\n    </tr>\n    <tr>\n      <td>3</td>\n      <td>Some 2,000 people gather at graves of 45 peopl...</td>\n      <td>Some 2,000 people gather at graves of 45 peopl...</td>\n      <td>1998-12-23T05:00:00+0000</td>\n      <td>nyt://article/1eaf78c0-88df-5390-bd95-664fcf07...</td>\n      <td>World</td>\n      <td>nyt://article/1eaf78c0-88df-5390-bd95-664fcf07...</td>\n      <td>News</td>\n      <td>The New York Times</td>\n      <td>A</td>\n      <td>For six days, only the dogs and chickens were ...</td>\n      <td>951</td>\n      <td>Foreign Desk</td>\n      <td>https://www.nytimes.com/1998/12/23/world/actea...</td>\n      <td>article</td>\n      <td>4</td>\n      <td>Acteal Journal; Where Killings Defiled a Churc...</td>\n      <td>By Ginger Thompson</td>\n      <td>-5</td>\n    </tr>\n    <tr>\n      <td>4</td>\n      <td>Ambitious United States effort to help train a...</td>\n      <td>Ambitious United States effort to help train a...</td>\n      <td>1998-12-23T05:00:00+0000</td>\n      <td>nyt://article/aae2ecc4-f440-5989-bdab-6e56f562...</td>\n      <td>World</td>\n      <td>nyt://article/aae2ecc4-f440-5989-bdab-6e56f562...</td>\n      <td>News</td>\n      <td>The New York Times</td>\n      <td>A</td>\n      <td>An ambitious United States effort to help trai...</td>\n      <td>1261</td>\n      <td>Foreign Desk</td>\n      <td>https://www.nytimes.com/1998/12/23/world/us-he...</td>\n      <td>article</td>\n      <td>1</td>\n      <td>U.S. Help for Mexican Military Has Not Curtail...</td>\n      <td>By Tim Golden</td>\n      <td>2</td>\n    </tr>\n  </tbody>\n</table>\n</div>"
     },
     "metadata": {},
     "execution_count": 9
    }
   ],
   "source": [
    "nyt.head()"
   ]
  },
  {
   "cell_type": "code",
   "execution_count": null,
   "metadata": {},
   "outputs": [],
   "source": []
  }
 ]
}